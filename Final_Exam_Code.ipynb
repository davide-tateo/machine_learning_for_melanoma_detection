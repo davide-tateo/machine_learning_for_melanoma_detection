{
 "cells": [
  {
   "attachments": {},
   "cell_type": "markdown",
   "metadata": {},
   "source": [
    "## Final Exam Machine Learning"
   ]
  },
  {
   "attachments": {},
   "cell_type": "markdown",
   "metadata": {},
   "source": [
    "Davide Tateo; 167275\n",
    "\n",
    "Francesca Salute; 167284\n",
    "\n",
    "Nicole Favero; 167340 \n",
    "\n",
    "Tomás Gonçalves; 167288"
   ]
  },
  {
   "cell_type": "code",
   "execution_count": 5,
   "metadata": {},
   "outputs": [],
   "source": [
    "#importing required API and modules\n",
    "import warnings\n",
    "from tensorflow.keras.utils import img_to_array\n",
    "from keras.preprocessing.image import array_to_img\n",
    "from tensorflow.keras.utils import load_img"
   ]
  },
  {
   "cell_type": "code",
   "execution_count": 7,
   "metadata": {},
   "outputs": [
    {
     "name": "stdout",
     "output_type": "stream",
     "text": [
      "<PIL.JpegImagePlugin.JpegImageFile image mode=RGB size=224x224 at 0x21AC06A2510>\n",
      "The mode of the original image=  RGB\n",
      "The dimensions of the original image=  (224, 224)\n",
      "Details about the image after conversion:\n",
      "The datatype of the image now =  <class 'numpy.ndarray'>\n",
      "The type of the array: float32\n",
      "The shape of the image is: (224, 224, 3)\n",
      "<PIL.Image.Image image mode=RGB size=224x224 at 0x21AC06A1650>\n"
     ]
    }
   ],
   "source": [
    "#loading the image using load_img\n",
    "org_img= load_img('./images/test/Benign/6299.jpg') \n",
    "#Printing original pic\n",
    "print(org_img)\n",
    "org_img.show()\n",
    "# details about the original image is displayed\n",
    "print(\"The mode of the original image= \",org_img.mode)\n",
    "print(\"The dimensions of the original image= \",org_img.size) \n",
    "# converting the given image into an numpy array\n",
    "img_array = img_to_array(org_img)\n",
    "print(\"Details about the image after conversion:\") \n",
    "#displaying the type of the image \n",
    "print(\"The datatype of the image now = \",type(img_array))\n",
    "# displaying the datatype of the elements of array\n",
    "print(\"The type of the array:\", img_array.dtype)\n",
    "# displaying dimensions of the image\n",
    "print(\"The shape of the image is:\", img_array.shape)\n",
    "#reconstructing the image\n",
    "new_img = array_to_img(img_array)\n",
    "#Printing reconstructed pic\n",
    "print(new_img)\n",
    "new_img.show()"
   ]
  }
 ],
 "metadata": {
  "kernelspec": {
   "display_name": "Python 3",
   "language": "python",
   "name": "python3"
  },
  "language_info": {
   "codemirror_mode": {
    "name": "ipython",
    "version": 3
   },
   "file_extension": ".py",
   "mimetype": "text/x-python",
   "name": "python",
   "nbconvert_exporter": "python",
   "pygments_lexer": "ipython3",
   "version": "3.11.9"
  }
 },
 "nbformat": 4,
 "nbformat_minor": 2
}
