{
 "cells": [
  {
   "attachments": {},
   "cell_type": "markdown",
   "metadata": {},
   "source": [
    "## Final Exam Machine Learning"
   ]
  },
  {
   "attachments": {},
   "cell_type": "markdown",
   "metadata": {},
   "source": [
    "Davide Tateo; 167275\n",
    "\n",
    "Francesca Salute; 167284\n",
    "\n",
    "Nicole Favero; 167340 \n",
    "\n",
    "Tomás Gonçalves; 167288"
   ]
  },
  {
   "cell_type": "code",
   "execution_count": 8,
   "metadata": {},
   "outputs": [],
   "source": [
    "#importing required API and modules\n",
    "import warnings\n",
    "import os\n",
    "import numpy as np\n",
    "import pandas as pd\n",
    "from tensorflow.keras.utils import img_to_array\n",
    "from keras.preprocessing.image import array_to_img\n",
    "from tensorflow.keras.utils import load_img"
   ]
  },
  {
   "cell_type": "code",
   "execution_count": 14,
   "metadata": {},
   "outputs": [],
   "source": [
    "def load_images_to_df(base_path):\n",
    "    data = {'photo_id': [], 'image': [], 'image_array' :[], 'malignant': []}\n",
    "    categories = {'Benign': 0, 'Malignant': 1}\n",
    "    \n",
    "    for subset in ['train', 'test']:\n",
    "        for category in ['Benign', 'Malignant']:\n",
    "            folder_path = os.path.join(base_path, subset, category)\n",
    "            for filename in os.listdir(folder_path):\n",
    "                if filename.endswith('.jpg'):\n",
    "                    file_path = os.path.join(folder_path, filename)\n",
    "                    # Upload Images\n",
    "                    image = load_img(file_path)\n",
    "                    image_array = img_to_array(image)\n",
    "                    # Add the data\n",
    "                    data['photo_id'].append(filename)\n",
    "                    data['image'].append(image)\n",
    "                    data['image_array'].append(image_array)\n",
    "                    data['malignant'].append(categories[category])\n",
    "    \n",
    "    # Create DataFrame\n",
    "    df = pd.DataFrame(data)\n",
    "    return df\n",
    "\n",
    "\n",
    "base_path = './images'\n",
    "df = load_images_to_df(base_path)\n"
   ]
  },
  {
   "cell_type": "code",
   "execution_count": 13,
   "metadata": {},
   "outputs": [
    {
     "name": "stdout",
     "output_type": "stream",
     "text": [
      "   photo_id                                              image  \\\n",
      "0     1.jpg  <PIL.JpegImagePlugin.JpegImageFile image mode=...   \n",
      "1    10.jpg  <PIL.JpegImagePlugin.JpegImageFile image mode=...   \n",
      "2   100.jpg  <PIL.JpegImagePlugin.JpegImageFile image mode=...   \n",
      "3  1000.jpg  <PIL.JpegImagePlugin.JpegImageFile image mode=...   \n",
      "4  1001.jpg  <PIL.JpegImagePlugin.JpegImageFile image mode=...   \n",
      "\n",
      "                                         image_array  malignant  \n",
      "0  [[[181.0, 140.0, 144.0], [190.0, 149.0, 153.0]...          0  \n",
      "1  [[[231.0, 138.0, 156.0], [232.0, 139.0, 157.0]...          0  \n",
      "2  [[[144.0, 126.0, 138.0], [151.0, 133.0, 145.0]...          0  \n",
      "3  [[[238.0, 150.0, 174.0], [238.0, 150.0, 174.0]...          0  \n",
      "4  [[[211.0, 122.0, 142.0], [213.0, 124.0, 144.0]...          0  \n",
      "Number of rows in the DataFrame: 13879\n"
     ]
    }
   ],
   "source": [
    "print(df.head())\n",
    "row_count = len(df)\n",
    "print(\"Number of rows in the DataFrame:\", row_count)"
   ]
  }
 ],
 "metadata": {
  "kernelspec": {
   "display_name": "Python 3",
   "language": "python",
   "name": "python3"
  },
  "language_info": {
   "codemirror_mode": {
    "name": "ipython",
    "version": 3
   },
   "file_extension": ".py",
   "mimetype": "text/x-python",
   "name": "python",
   "nbconvert_exporter": "python",
   "pygments_lexer": "ipython3",
   "version": "3.11.9"
  }
 },
 "nbformat": 4,
 "nbformat_minor": 2
}
